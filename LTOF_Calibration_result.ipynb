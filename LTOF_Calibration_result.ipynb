{
 "cells": [
  {
   "cell_type": "markdown",
   "id": "3ea20f1a",
   "metadata": {},
   "source": [
    "## LTOF-AMS IE calibration"
   ]
  },
  {
   "cell_type": "markdown",
   "id": "f08c0766",
   "metadata": {},
   "source": [
    "_2021-07-22_\n",
    "\n",
    "__DMA/CPC mass based method__\n",
    "\n",
    "NH4NO3 particle was generated from an atomizer and dryer to DMA. 300 nm diameter size particles were then selected to two diverged flows, one into the inlet of AMS, one into CPC.     \n",
    "\n",
    "For correcting the IE values,\n",
    "1) Calculate the nitrate mass loading based on AMS PIKA NO3 ion conc with current IE value. \n",
    "\n",
    "Noted $Nitrate = NO_{3}\\cdot (M_{NO_3}+M_{NH_4})/M_{NO_3} = 1.299\\cdot NO_{3}$\n",
    "\n",
    "2) Convert the nitrate mass loading (Cm) from number concentrations reading of CPC (Cn) based on the equation below:\n",
    "\n",
    "\n",
    "$$C_{m} = S\\cdot \\rho \\cdot \\frac{4}{3} \\pi (D/2)^{3} \\cdot C_{n}$$  \n",
    "\n",
    "\n",
    "* S, shape factor, parameter relating aerodynamic and geometric diameter \n",
    "* $\\rho$, mass density\n",
    "* $D$, aerodynamic diameter of the particle \n",
    "* $C_{n}$, number concentration, in $p/cc$\n",
    "\n",
    "In this case, $S = 0.8^{[1]}$, $\\rho=1.725\\ g\\ cm^{-3}$, $D =300\\ nm$, \n",
    "\n",
    "$Cm = 0.8\\cdot(10^{12})\\cdot 1.725\\cdot4/3\\cdot 3.14\\cdot (300/2 \\cdot 10^{-9})^{3} \\cdot 10^{6} \\cdot C_{n}$ = 0.0195 $C_{n}$    \n",
    "\n",
    "3)  AMS-based nitrate conc (measured value) will be compared with CPC-based result (\"true\" value). The slope of their linear fit will be used for correcting the IE value."
   ]
  },
  {
   "cell_type": "markdown",
   "id": "86bfb10f",
   "metadata": {},
   "source": [
    "__Experiment data__"
   ]
  },
  {
   "cell_type": "markdown",
   "id": "7d6b1116",
   "metadata": {},
   "source": [
    "|   Standard conc (ppm) |   AMS_NO3 (ug/m3) |   AMS_Nitrate (ug/m3) |   CPC number conc (#/cm3) |   CPC nitrate conc (ug/m3) |\n",
    "|----------------------:|------------------:|----------------------:|--------------------------:|---------------------------:|\n",
    "|                  5000 |         137.773   |             178.968   |                     20600 |                     401.7  |\n",
    "|                  4000 |          85.7729  |             111.419   |                     13300 |                     259.35 |\n",
    "|                  2000 |          21.4703  |              27.8899  |                       3760 |                       73.32 |\n",
    "|                  1000 |           4.96123 |               6.44463 |                      1020 |                      19.89 |"
   ]
  },
  {
   "cell_type": "markdown",
   "id": "2bc4109e",
   "metadata": {},
   "source": [
    "__Curved line__"
   ]
  },
  {
   "cell_type": "markdown",
   "id": "c34e90c9",
   "metadata": {},
   "source": [
    "[![enter image description here][1]][1]\n",
    "\n",
    "\n",
    "  [1]: https://i.stack.imgur.com/jvaBX.png"
   ]
  },
  {
   "cell_type": "markdown",
   "id": "ec56f5c3",
   "metadata": {},
   "source": [
    "### Appendix"
   ]
  },
  {
   "cell_type": "markdown",
   "id": "dadd66c9",
   "metadata": {},
   "source": [
    "__HRNO3 time series__\n",
    "\n",
    "<img src = \"https://i.stack.imgur.com/aPiQA.png\" width = '600' />\n",
    "\n",
    "__Peak shape__\n",
    "\n",
    "<img src = \"https://i.stack.imgur.com/tUVvN.png\" width = '400' />"
   ]
  },
  {
   "cell_type": "markdown",
   "id": "37ab3b85",
   "metadata": {},
   "source": [
    "__Reference__\n",
    "\n",
    "[1] Jayne, J. T., Leard, D. C., Zhang, X., Davidovits, P., Smith, K. A.Kolb, C. E. 2000. Development of an Aerosol Mass Spectrometer for Size and Composition Analysis of Submicron Particles. Aerosol Sci. Technol., 33: 49–70._"
   ]
  }
 ],
 "metadata": {
  "kernelspec": {
   "display_name": "Python 3",
   "language": "python",
   "name": "python3"
  },
  "language_info": {
   "codemirror_mode": {
    "name": "ipython",
    "version": 3
   },
   "file_extension": ".py",
   "mimetype": "text/x-python",
   "name": "python",
   "nbconvert_exporter": "python",
   "pygments_lexer": "ipython3",
   "version": "3.8.8"
  }
 },
 "nbformat": 4,
 "nbformat_minor": 5
}
