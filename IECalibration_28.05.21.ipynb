{
 "cells": [
  {
   "cell_type": "code",
   "execution_count": 1,
   "metadata": {},
   "outputs": [
    {
     "data": {
      "text/html": [
       "<script>\n",
       "code_show=true; \n",
       "function code_toggle() {\n",
       " if (code_show){\n",
       " $('div.input').hide();\n",
       " } else {\n",
       " $('div.input').show();\n",
       " }\n",
       " code_show = !code_show\n",
       "} \n",
       "$( document ).ready(code_toggle);\n",
       "</script>\n",
       "<form action=\"javascript:code_toggle()\"><input type=\"submit\" value=\"Click here to toggle on/off the raw code.\"></form>"
      ],
      "text/plain": [
       "<IPython.core.display.HTML object>"
      ]
     },
     "execution_count": 1,
     "metadata": {},
     "output_type": "execute_result"
    }
   ],
   "source": [
    "from IPython.display import HTML\n",
    "\n",
    "HTML('''<script>\n",
    "code_show=true; \n",
    "function code_toggle() {\n",
    " if (code_show){\n",
    " $('div.input').hide();\n",
    " } else {\n",
    " $('div.input').show();\n",
    " }\n",
    " code_show = !code_show\n",
    "} \n",
    "$( document ).ready(code_toggle);\n",
    "</script>\n",
    "<form action=\"javascript:code_toggle()\"><input type=\"submit\" value=\"Click here to toggle on/off the raw code.\"></form>''')"
   ]
  },
  {
   "cell_type": "code",
   "execution_count": 149,
   "metadata": {},
   "outputs": [],
   "source": [
    "import numpy as np\n",
    "import matplotlib.pyplot as plt\n",
    "import pandas as pd\n",
    "from pandas import DataFrame\n",
    "from tabulate import tabulate\n",
    "import statsmodels.api as sm\n",
    "\n",
    "import qgrid\n",
    "from __future__ import print_function\n",
    "from ipywidgets import interact, interactive, fixed, interact_manual\n",
    "import ipywidgets as widgets\n"
   ]
  },
  {
   "cell_type": "markdown",
   "metadata": {},
   "source": [
    "\n",
    "## __IE Calibration__\n",
    "\n",
    "__28.05.2021__\n",
    "\n",
    "\n",
    "Today, we tested 5 different concentrations of NH4NO3 standards with both AMS and SMPS for calibrating the IE values.\n",
    "\n",
    "Ideally, we assumed the results from SMPS were reliable, and then transform the volume conc to mass conc with the density of NH4NO3 (1.725 ug/m3). Then, the fitted line of mass conc from AMS and SMPS were obtained, in which the slope will be used to correct the IE values for matching the results.   \n",
    "\n",
    "For AMS,   $Nitrate\\ (\\mu g\\ m^{-3}) = HRNO_{3}\\cdot (M_{NO_3}+M_{NH_4})/M_{NO_3} = 1.299\\cdot HRNO_{3}$    \n",
    "\n",
    "For SMPS, $Nitrate\\ (\\mu g\\ m^{-3}) = 1.725\\ g\\cdot cm^{-3}\\cdot 10^{-9}\\cdot Volume\\ Conc\\ (nm^{3}\\cdot m^{-3}) $   \n",
    "\n",
    "_Note: shape factor was not used this time_\n"
   ]
  },
  {
   "cell_type": "markdown",
   "metadata": {},
   "source": [
    "### __1. Experimental Results__  \n"
   ]
  },
  {
   "cell_type": "markdown",
   "metadata": {},
   "source": [
    "__1.1 General Overview__  \n",
    "\n",
    "| Conc (ppm)   |   HROrg_AMS (ug/m3) |   NH4NO3_AMS (ug/m3) |   NH4NO3_SMPS (nm3/m3) |   NH4NO3_SMPS (ug/m3) |\n",
    "|:-------------|--------------------:|---------------------:|-----------------------:|----------------------:|\n",
    "| 20           |              61.778 |               80.232 |               1.45e+11 |               249.735 |\n",
    "| 10           |              26.991 |               35.053 |               7.77e+10 |               134.093 |\n",
    "| 5            |              12.918 |               16.777 |               4.68e+10 |                80.685 |\n",
    "| 2            |               6.017 |                7.814 |               2.89e+10 |                49.916 |\n",
    "| 1            |               3.623 |                4.706 |               2.06e+10 |                35.503 |\n",
    "| water blank  |               1.518 |                1.972 |               1.41e+10 |                24.388 |    \n",
    "\n"
   ]
  },
  {
   "cell_type": "markdown",
   "metadata": {},
   "source": [
    "__1.2 AMS HRNO3 time series & raw data__  "
   ]
  },
  {
   "cell_type": "markdown",
   "metadata": {},
   "source": [
    "<img src=\"https://i.stack.imgur.com/taM5n.jpg\" width = '900'>"
   ]
  },
  {
   "cell_type": "code",
   "execution_count": 27,
   "metadata": {},
   "outputs": [],
   "source": [
    "df2 = pd.read_clipboard()"
   ]
  },
  {
   "cell_type": "code",
   "execution_count": 33,
   "metadata": {},
   "outputs": [
    {
     "name": "stdout",
     "output_type": "stream",
     "text": [
      "AMS Raw data\n"
     ]
    },
    {
     "data": {
      "application/vnd.jupyter.widget-view+json": {
       "model_id": "821d3605995e48c0b98a2f4fd4a98f26",
       "version_major": 2,
       "version_minor": 0
      },
      "text/plain": [
       "interactive(children=(Dropdown(description='conc', options=('20 ppm', '10 ppm', '5 ppm', '2 ppm', '1 ppm', 'wa…"
      ]
     },
     "metadata": {},
     "output_type": "display_data"
    }
   ],
   "source": [
    "print(f'AMS Raw data')\n",
    "def show_ams_data(conc):\n",
    "    dt =df2[df2.Standard==conc]\n",
    "    dt = dt.reset_index()\n",
    "    dt = dt[dt.columns[1:-1]]\n",
    "    with pd.option_context('display.max_rows', None, 'display.max_columns', None):  # more options can be specified also\n",
    "        print(dt)    \n",
    "widgets.interact(show_ams_data, conc=[\"20 ppm\", \"10 ppm\", \"5 ppm\",'2 ppm','1 ppm','water blank']);"
   ]
  },
  {
   "cell_type": "markdown",
   "metadata": {},
   "source": [
    "__1.3 SMPS raw data__  "
   ]
  },
  {
   "cell_type": "code",
   "execution_count": 39,
   "metadata": {},
   "outputs": [],
   "source": [
    "df3 = pd.read_clipboard()"
   ]
  },
  {
   "cell_type": "code",
   "execution_count": 135,
   "metadata": {},
   "outputs": [
    {
     "data": {
      "application/vnd.jupyter.widget-view+json": {
       "model_id": "c2113c48e4424907857df21b68766b86",
       "version_major": 2,
       "version_minor": 0
      },
      "text/plain": [
       "interactive(children=(Dropdown(description='conc', options=('20 ppm', '10 ppm', '5 ppm', '2 pm', '1 pm', 'wate…"
      ]
     },
     "metadata": {},
     "output_type": "display_data"
    }
   ],
   "source": [
    "def show_smps_data(conc):\n",
    "    dt =df3[df3.Standard==conc]\n",
    "    dt = dt.reset_index()\n",
    "    dt = dt[dt.columns[1:-1]]\n",
    "    with pd.option_context('display.max_rows', None, 'display.max_columns', None):  # more options can be specified also\n",
    "        print(dt)    \n",
    "widgets.interact(show_smps_data, conc=[\"20 ppm\", \"10 ppm\", \"5 ppm\",'2 pm','1 pm','water blank']);"
   ]
  },
  {
   "cell_type": "markdown",
   "metadata": {},
   "source": [
    "### 2. __Linear fitting__"
   ]
  },
  {
   "cell_type": "code",
   "execution_count": 264,
   "metadata": {},
   "outputs": [],
   "source": [
    "switch1,switch2 = 'on','non-zero'"
   ]
  },
  {
   "cell_type": "code",
   "execution_count": 272,
   "metadata": {},
   "outputs": [],
   "source": [
    "def func_scatter_plot(func,x,y,popt,r_square):\n",
    "    fig = plt.figure(figsize =(9,4))\n",
    "    ax  = plt.subplot(121)\n",
    "    plt.scatter(x,y, color ='#FF4D4D',s =120,zorder=5,lw = 1., edgecolor = 'k',)\n",
    "\n",
    "    xx =  np.arange(0,100,2)\n",
    "    yy =  func(xx, *popt)\n",
    "\n",
    "    plt.plot(xx,yy,'-',color = 'steelblue',linewidth =1.5)\n",
    "\n",
    "    plt.xlabel(\"AMS Conc ($\\mu g\\ m^{-3}$)\",fontsize =14)\n",
    "    plt.ylabel(\"SMPS Conc ($\\mu g\\ m^{-3}$)\",fontsize =14)\n",
    "\n",
    "    ax.grid(True)\n",
    "\n",
    "\n",
    "    ax  = plt.subplot(122)\n",
    "\n",
    "    plt.text(0.2,0.8,'y = a * x + b',fontsize=14)\n",
    "\n",
    "    plt.text(0.2,0.6,'y = a * x + b',fontsize=14)\n",
    "\n",
    "    plt.text(0.2,0.4,'y = a * x + b',fontsize=14)\n",
    "\n",
    "    plt.text(0.2,0.2,'y = a * x + b',fontsize=14)\n",
    "\n",
    "    fig.patch.set_visible(False)\n",
    "    ax.axis('off')    \n",
    "    \n",
    "    plt.show()"
   ]
  },
  {
   "cell_type": "code",
   "execution_count": 274,
   "metadata": {},
   "outputs": [
    {
     "data": {
      "application/vnd.jupyter.widget-view+json": {
       "model_id": "5ba1c7b4349b475abb70216e72928e34",
       "version_major": 2,
       "version_minor": 0
      },
      "text/plain": [
       "interactive(children=(Dropdown(description='Data', options=('with water blank substraction', 'without water bl…"
      ]
     },
     "metadata": {},
     "output_type": "display_data"
    }
   ],
   "source": [
    "def show_correlation_plot(Data,Format):\n",
    "    if Data =='on':\n",
    "        x = df['NH4NO3_AMS (ug/m3)'][:-1].values  - df['NH4NO3_AMS (ug/m3)'].iloc[-1]\n",
    "        y = df['NH4NO3_SMPS (ug/m3)'][:-1].values - df['NH4NO3_AMS (ug/m3)'].iloc[-1]\n",
    "    else:\n",
    "        x = df['NH4NO3_AMS (ug/m3)'][:-1].values#  - df['NH4NO3_AMS (ug/m3)'].iloc[-1]\n",
    "        y = df['NH4NO3_SMPS (ug/m3)'][:-1].values# - df['NH4NO3_AMS (ug/m3)'].iloc[-1]    \n",
    "\n",
    "    # linear fitting  \n",
    "    def get_r(f,x,y,popt):\n",
    "        residuals = y- f(x, *popt)\n",
    "        ss_res = np.sum(residuals**2)    \n",
    "        ss_tot = np.sum((y-np.mean(y))**2)    \n",
    "        r_squared = 1 - (ss_res / ss_tot)\n",
    "        return (r_squared)\n",
    "\n",
    "    if Format == 'intercept = 0':\n",
    "        def func(x, a):\n",
    "            return (a * x)\n",
    "    if Format == \"intercept ≠ 0\":\n",
    "        def func(x, a,b):\n",
    "            return (a * x + b)\n",
    "    popt, pcov = curve_fit(func, x, y)\n",
    "    r_square = get_r(func,x,y, popt )   \n",
    "    func_scatter_plot(func, x,y,popt,r_square)\n",
    "    \n",
    "    \n",
    "widgets.interact(show_correlation_plot, Data=[\"with water blank substraction\",\"without water blank substraction\"],\\\n",
    "                Format=[\"intercept = 0\",\"intercept ≠ 0\"]);"
   ]
  },
  {
   "cell_type": "code",
   "execution_count": null,
   "metadata": {},
   "outputs": [],
   "source": []
  },
  {
   "cell_type": "code",
   "execution_count": 263,
   "metadata": {},
   "outputs": [
    {
     "data": {
      "image/png": "[encoded data removed]",
      "text/plain": [
       "<Figure size 648x288 with 2 Axes>"
      ]
     },
     "metadata": {
      "needs_background": "light"
     },
     "output_type": "display_data"
    }
   ],
   "source": [
    "fig = plt.figure(figsize =(9,4))\n",
    "ax  = plt.subplot(121)\n",
    "plt.scatter(x,y, color ='#FF4D4D',s =120,zorder=5,lw = 1., edgecolor = 'k',)\n",
    "\n",
    "xx =  np.arange(0,100,2)\n",
    "yy =  func(xx, *popt)\n",
    "\n",
    "plt.plot(xx,yy,'-',color = 'steelblue',linewidth =1.5)\n",
    "\n",
    "plt.xlabel(\"AMS Conc ($\\mu g\\ m^{-3}$)\",fontsize =14)\n",
    "plt.ylabel(\"SMPS Conc ($\\mu g\\ m^{-3}$)\",fontsize =14)\n",
    "\n",
    "ax.grid(True)\n",
    "\n",
    "\n",
    "ax  = plt.subplot(122)\n",
    "\n",
    "plt.text(0.2,0.8,'y = a * x + b',fontsize=14)\n",
    "\n",
    "plt.text(0.2,0.6,'y = a * x + b',fontsize=14)\n",
    "\n",
    "plt.text(0.2,0.4,'y = a * x + b',fontsize=14)\n",
    "\n",
    "plt.text(0.2,0.2,'y = a * x + b',fontsize=14)\n",
    "\n",
    "fig.patch.set_visible(False)\n",
    "ax.axis('off')\n",
    "\n",
    "plt.show()"
   ]
  },
  {
   "cell_type": "code",
   "execution_count": 252,
   "metadata": {},
   "outputs": [
    {
     "data": {
      "text/plain": [
       "array([ 2.79128989, 32.80476861])"
      ]
     },
     "execution_count": 252,
     "metadata": {},
     "output_type": "execute_result"
    }
   ],
   "source": [
    "popt"
   ]
  },
  {
   "cell_type": "code",
   "execution_count": null,
   "metadata": {},
   "outputs": [],
   "source": []
  },
  {
   "cell_type": "code",
   "execution_count": null,
   "metadata": {},
   "outputs": [],
   "source": []
  },
  {
   "cell_type": "code",
   "execution_count": null,
   "metadata": {},
   "outputs": [],
   "source": []
  },
  {
   "cell_type": "code",
   "execution_count": 112,
   "metadata": {},
   "outputs": [
    {
     "data": {
      "text/plain": [
       "['with water blank substraction', 'without water blank substraction']"
      ]
     },
     "execution_count": 112,
     "metadata": {},
     "output_type": "execute_result"
    }
   ],
   "source": []
  },
  {
   "cell_type": "code",
   "execution_count": 165,
   "metadata": {},
   "outputs": [
    {
     "ename": "TypeError",
     "evalue": "__init__() missing 1 required positional argument: 'endog'",
     "output_type": "error",
     "traceback": [
      "\u001b[1;31m---------------------------------------------------------------------------\u001b[0m",
      "\u001b[1;31mTypeError\u001b[0m                                 Traceback (most recent call last)",
      "\u001b[1;32m<ipython-input-165-31c68ee8dd2f>\u001b[0m in \u001b[0;36m<module>\u001b[1;34m\u001b[0m\n\u001b[0;32m      4\u001b[0m \u001b[0mdata\u001b[0m\u001b[1;33m[\u001b[0m\u001b[1;34m'x'\u001b[0m\u001b[1;33m]\u001b[0m\u001b[1;33m,\u001b[0m\u001b[0mdata\u001b[0m\u001b[1;33m[\u001b[0m\u001b[1;34m'y'\u001b[0m\u001b[1;33m]\u001b[0m\u001b[1;33m=\u001b[0m\u001b[0mx\u001b[0m\u001b[1;33m,\u001b[0m\u001b[0my\u001b[0m\u001b[1;33m\u001b[0m\u001b[1;33m\u001b[0m\u001b[0m\n\u001b[0;32m      5\u001b[0m \u001b[1;33m\u001b[0m\u001b[0m\n\u001b[1;32m----> 6\u001b[1;33m \u001b[0msm\u001b[0m\u001b[1;33m.\u001b[0m\u001b[0mOLS\u001b[0m\u001b[1;33m(\u001b[0m\u001b[0mformula\u001b[0m \u001b[1;33m=\u001b[0m \u001b[1;34m'y ~ x + I(x**2)'\u001b[0m\u001b[1;33m,\u001b[0m \u001b[0mdata\u001b[0m \u001b[1;33m=\u001b[0m\u001b[0mdata\u001b[0m\u001b[1;33m)\u001b[0m\u001b[1;33m.\u001b[0m\u001b[0mfit\u001b[0m\u001b[1;33m(\u001b[0m\u001b[1;33m)\u001b[0m\u001b[1;33m\u001b[0m\u001b[1;33m\u001b[0m\u001b[0m\n\u001b[0m",
      "\u001b[1;31mTypeError\u001b[0m: __init__() missing 1 required positional argument: 'endog'"
     ]
    }
   ],
   "source": [
    "import statsmodels.api as sm\n",
    "\n",
    "data = pd.DataFrame(columns=['x','y'])\n",
    "data['x'],data['y']=x,y\n",
    "\n",
    "sm.OLS(formula = 'y ~ x + I(x**2)', data =data).fit()"
   ]
  },
  {
   "cell_type": "code",
   "execution_count": 181,
   "metadata": {},
   "outputs": [
    {
     "data": {
      "text/plain": [
       "array([3.38215337])"
      ]
     },
     "execution_count": 181,
     "metadata": {},
     "output_type": "execute_result"
    }
   ],
   "source": [
    "olsres_ = sm.OLS(formula = 'y ~ x+I(x**0)', endog=y, exog=x).fit()\n",
    "\n",
    "olsres_.params#,olsres_.rsquared"
   ]
  },
  {
   "cell_type": "code",
   "execution_count": 184,
   "metadata": {},
   "outputs": [
    {
     "name": "stdout",
     "output_type": "stream",
     "text": [
      "[0.89516052 2.00334187]\n"
     ]
    }
   ],
   "source": [
    "np.random.seed(1)\n",
    "X = sm.add_constant(np.arange(100))\n",
    "y = np.dot(X, [1,2]) + np.random.normal(size=100)\n",
    "result = sm.OLS(y, X).fit()\n",
    "print(result.params)"
   ]
  },
  {
   "cell_type": "code",
   "execution_count": 186,
   "metadata": {},
   "outputs": [],
   "source": [
    "nsample = 100\n",
    "x = np.linspace(0, 10, 100)\n",
    "X = np.column_stack((x, x**2))\n",
    "beta = np.array([1, 0.1, 10])\n",
    "e = np.random.normal(size=nsample)"
   ]
  },
  {
   "cell_type": "code",
   "execution_count": 187,
   "metadata": {},
   "outputs": [],
   "source": [
    "X = sm.add_constant(X)\n",
    "y = np.dot(X, beta) + e"
   ]
  },
  {
   "cell_type": "code",
   "execution_count": 191,
   "metadata": {},
   "outputs": [
    {
     "data": {
      "text/plain": [
       "15"
      ]
     },
     "execution_count": 191,
     "metadata": {},
     "output_type": "execute_result"
    }
   ],
   "source": [
    "np.dot(5,3)"
   ]
  },
  {
   "cell_type": "code",
   "execution_count": 192,
   "metadata": {},
   "outputs": [],
   "source": [
    "\n",
    "x = df['NH4NO3_AMS (ug/m3)'][:-1].values  - df['NH4NO3_AMS (ug/m3)'].iloc[-1]\n",
    "y = df['NH4NO3_SMPS (ug/m3)'][:-1].values - df['NH4NO3_AMS (ug/m3)'].iloc[-1]"
   ]
  },
  {
   "cell_type": "code",
   "execution_count": null,
   "metadata": {},
   "outputs": [],
   "source": []
  },
  {
   "cell_type": "code",
   "execution_count": null,
   "metadata": {},
   "outputs": [],
   "source": []
  },
  {
   "cell_type": "code",
   "execution_count": null,
   "metadata": {},
   "outputs": [],
   "source": []
  },
  {
   "cell_type": "code",
   "execution_count": null,
   "metadata": {},
   "outputs": [],
   "source": []
  },
  {
   "cell_type": "code",
   "execution_count": null,
   "metadata": {},
   "outputs": [],
   "source": []
  },
  {
   "cell_type": "code",
   "execution_count": 154,
   "metadata": {},
   "outputs": [
    {
     "ename": "NameError",
     "evalue": "name 'X_opt' is not defined",
     "output_type": "error",
     "traceback": [
      "\u001b[1;31m---------------------------------------------------------------------------\u001b[0m",
      "\u001b[1;31mNameError\u001b[0m                                 Traceback (most recent call last)",
      "\u001b[1;32m<ipython-input-154-3374805cda1a>\u001b[0m in \u001b[0;36m<module>\u001b[1;34m\u001b[0m\n\u001b[0;32m      1\u001b[0m \u001b[1;32mimport\u001b[0m \u001b[0mstatsmodels\u001b[0m\u001b[1;33m.\u001b[0m\u001b[0mapi\u001b[0m \u001b[1;32mas\u001b[0m \u001b[0msm\u001b[0m\u001b[1;33m\u001b[0m\u001b[1;33m\u001b[0m\u001b[0m\n\u001b[0;32m      2\u001b[0m \u001b[1;31m# X_opt = np.array(X[:, [0, 1, 2, 3, 4, 5]], dtype=float)\u001b[0m\u001b[1;33m\u001b[0m\u001b[1;33m\u001b[0m\u001b[1;33m\u001b[0m\u001b[0m\n\u001b[1;32m----> 3\u001b[1;33m \u001b[0mregressor_OLS\u001b[0m \u001b[1;33m=\u001b[0m \u001b[0msm\u001b[0m\u001b[1;33m.\u001b[0m\u001b[0mOLS\u001b[0m\u001b[1;33m(\u001b[0m\u001b[0mendog\u001b[0m \u001b[1;33m=\u001b[0m \u001b[0my\u001b[0m\u001b[1;33m,\u001b[0m \u001b[0mexog\u001b[0m \u001b[1;33m=\u001b[0m \u001b[0mX_opt\u001b[0m\u001b[1;33m)\u001b[0m\u001b[1;33m.\u001b[0m\u001b[0mfit\u001b[0m\u001b[1;33m(\u001b[0m\u001b[1;33m)\u001b[0m\u001b[1;33m\u001b[0m\u001b[1;33m\u001b[0m\u001b[0m\n\u001b[0m",
      "\u001b[1;31mNameError\u001b[0m: name 'X_opt' is not defined"
     ]
    }
   ],
   "source": [
    "import statsmodels.api as sm\n",
    "# X_opt = np.array(X[:, [0, 1, 2, 3, 4, 5]], dtype=float)\n",
    "regressor_OLS = sm.OLS(endog = y, exog = X_opt).fit()"
   ]
  },
  {
   "cell_type": "code",
   "execution_count": null,
   "metadata": {},
   "outputs": [],
   "source": []
  },
  {
   "cell_type": "code",
   "execution_count": null,
   "metadata": {},
   "outputs": [],
   "source": []
  },
  {
   "cell_type": "code",
   "execution_count": 145,
   "metadata": {},
   "outputs": [
    {
     "name": "stdout",
     "output_type": "stream",
     "text": [
      "Coefficients [3.31830849]\n",
      "Fitted curve/line [259.69082262 109.77296324  49.12755723  19.38555821   9.07225542]\n",
      "2.7912898900278096 32.804768687134654 0.9978250107260845\n"
     ]
    },
    {
     "name": "stderr",
     "output_type": "stream",
     "text": [
      "<ipython-input-145-b21959639f21>:10: FutureWarning: `rcond` parameter will change to the default of machine precision times ``max(M, N)`` where M and N are the input matrix dimensions.\n",
      "To use the future default and silence this warning we advise to pass `rcond=None`, to keep using the old, explicitly pass `rcond=-1`.\n",
      "  coefff = np.linalg.lstsq(matrix, y)[0]    # lstsq returns some additional info we ignore\n"
     ]
    }
   ],
   "source": [
    "\n",
    "    \n",
    "    \n",
    "    \n",
    "    \n",
    "degrees = [1]       # list of degrees of x to use\n",
    "matrix = np.stack([x**d for d in degrees], axis=-1)   # stack them like columns\n",
    "coefff = np.linalg.lstsq(matrix, y)[0]    # lstsq returns some additional info we ignore\n",
    "print(\"Coefficients\", coeff)\n",
    "fit = np.dot(matrix, coeff)\n",
    "print(\"Fitted curve/line\", fit)\n",
    "\n",
    "slope, intercept, r_value, p_value, std_err = stats.linregress(x,y)\n",
    "\n",
    "print (slope,intercept,r_value)"
   ]
  },
  {
   "cell_type": "code",
   "execution_count": 147,
   "metadata": {},
   "outputs": [
    {
     "data": {
      "text/plain": [
       "array([259.69082262, 109.77296324,  49.12755723,  19.38555821,\n",
       "         9.07225542])"
      ]
     },
     "execution_count": 147,
     "metadata": {},
     "output_type": "execute_result"
    }
   ],
   "source": [
    "np.dot(matrix, coeff)"
   ]
  },
  {
   "cell_type": "code",
   "execution_count": 136,
   "metadata": {},
   "outputs": [],
   "source": [
    "from scipy import stats\n",
    "x = np.random.random(10)\n",
    "y = np.random.random(10)\n"
   ]
  },
  {
   "cell_type": "code",
   "execution_count": 195,
   "metadata": {},
   "outputs": [
    {
     "data": {
      "text/plain": [
       "array([[78.26 ],\n",
       "       [33.081],\n",
       "       [14.805],\n",
       "       [ 5.842],\n",
       "       [ 2.734]])"
      ]
     },
     "execution_count": 195,
     "metadata": {},
     "output_type": "execute_result"
    }
   ],
   "source": [
    "np.stack([x**d for d in [1]], axis=-1) "
   ]
  },
  {
   "cell_type": "code",
   "execution_count": null,
   "metadata": {},
   "outputs": [],
   "source": []
  },
  {
   "cell_type": "code",
   "execution_count": 196,
   "metadata": {},
   "outputs": [
    {
     "name": "stderr",
     "output_type": "stream",
     "text": [
      "<ipython-input-196-43de1f6bfbd4>:16: FutureWarning: `rcond` parameter will change to the default of machine precision times ``max(M, N)`` where M and N are the input matrix dimensions.\n",
      "To use the future default and silence this warning we advise to pass `rcond=None`, to keep using the old, explicitly pass `rcond=-1`.\n",
      "  a, _, _, _ = np.linalg.lstsq(x, y)\n"
     ]
    },
    {
     "data": {
      "image/png": "[encoded data removed]",
      "text/plain": [
       "<Figure size 432x288 with 1 Axes>"
      ]
     },
     "metadata": {
      "needs_background": "light"
     },
     "output_type": "display_data"
    }
   ],
   "source": [
    "import numpy as np\n",
    "import matplotlib.pyplot as plt\n",
    "\n",
    "x = np.array([0.1, 0.2, 0.4, 0.6, 0.8, 1.0, 2.0, 4.0, 6.0, 8.0, 10.0, \n",
    "              20.0, 40.0, 60.0, 80.0])\n",
    "\n",
    "y = np.array([0.50505332505407008, 1.1207373784533172, 2.1981844719020001,\n",
    "              3.1746209003398689, 4.2905482471260044, 6.2816226678076958,\n",
    "              11.073788414382639, 23.248479770546009, 32.120462301367183, \n",
    "              44.036117671229206, 54.009003143831116, 102.7077685684846, \n",
    "              185.72880217806673, 256.12183145545811, 301.97120103079675])\n",
    "\n",
    "# Our model is y = a * x, so things are quite simple, in this case...\n",
    "# x needs to be a column vector instead of a 1D vector for this, however.\n",
    "x = x[:,np.newaxis]\n",
    "a, _, _, _ = np.linalg.lstsq(x, y)\n",
    "\n",
    "plt.plot(x, y, 'bo')\n",
    "plt.plot(x, a*x, 'r-')\n",
    "plt.show()"
   ]
  },
  {
   "cell_type": "code",
   "execution_count": 200,
   "metadata": {},
   "outputs": [
    {
     "data": {
      "text/plain": [
       "array([[ 0.1],\n",
       "       [ 0.2],\n",
       "       [ 0.4],\n",
       "       [ 0.6],\n",
       "       [ 0.8],\n",
       "       [ 1. ],\n",
       "       [ 2. ],\n",
       "       [ 4. ],\n",
       "       [ 6. ],\n",
       "       [ 8. ],\n",
       "       [10. ],\n",
       "       [20. ],\n",
       "       [40. ],\n",
       "       [60. ],\n",
       "       [80. ]])"
      ]
     },
     "execution_count": 200,
     "metadata": {},
     "output_type": "execute_result"
    }
   ],
   "source": [
    "x"
   ]
  },
  {
   "cell_type": "code",
   "execution_count": null,
   "metadata": {},
   "outputs": [],
   "source": []
  },
  {
   "cell_type": "code",
   "execution_count": null,
   "metadata": {},
   "outputs": [],
   "source": []
  },
  {
   "cell_type": "code",
   "execution_count": null,
   "metadata": {},
   "outputs": [],
   "source": []
  },
  {
   "cell_type": "code",
   "execution_count": null,
   "metadata": {},
   "outputs": [],
   "source": []
  },
  {
   "cell_type": "code",
   "execution_count": null,
   "metadata": {},
   "outputs": [],
   "source": []
  },
  {
   "cell_type": "code",
   "execution_count": null,
   "metadata": {},
   "outputs": [],
   "source": []
  },
  {
   "cell_type": "code",
   "execution_count": 107,
   "metadata": {},
   "outputs": [
    {
     "name": "stdout",
     "output_type": "stream",
     "text": [
      "Coefficients [3.31830849]\n",
      "Fitted curve/line [266.23452696 116.31666758  55.67126158  25.92926256  15.61595977]\n"
     ]
    },
    {
     "name": "stderr",
     "output_type": "stream",
     "text": [
      "<ipython-input-107-ffe3c5a5dd75>:5: FutureWarning: `rcond` parameter will change to the default of machine precision times ``max(M, N)`` where M and N are the input matrix dimensions.\n",
      "To use the future default and silence this warning we advise to pass `rcond=None`, to keep using the old, explicitly pass `rcond=-1`.\n",
      "  coeff = np.linalg.lstsq(matrix, y)[0]    # lstsq returns some additional info we ignore\n"
     ]
    }
   ],
   "source": []
  },
  {
   "cell_type": "code",
   "execution_count": 143,
   "metadata": {},
   "outputs": [
    {
     "data": {
      "image/png": "[encoded data removed]",
      "text/plain": [
       "<Figure size 360x360 with 1 Axes>"
      ]
     },
     "metadata": {
      "needs_background": "light"
     },
     "output_type": "display_data"
    }
   ],
   "source": [
    "fig = plt.figure(figsize =(5,5))\n",
    "ax  = plt.subplot(111)\n",
    "cc = plt.scatter(x,y, color ='r',s =50,zorder=5)\n",
    "\n",
    "# xx = np.arange(0,2000,1)\n",
    "# yy = coeff*xx\n",
    "\n",
    "# plt.plot(xx,yy,'b-')\n",
    "\n",
    "plt.xlabel(\"AMS Conc ($\\mu g\\ m^{-3}$)\",fontsize =14)\n",
    "plt.ylabel(\"SMPS Conc ($\\mu g\\ m^{-3}$)\",fontsize =14)\n",
    "\n",
    "\n",
    "mplcursors.cursor(cc) # or just mplcursors.cursor()\n",
    "# plt.text(666,255,\"y = 0.562 x\",fontsize =14)\n",
    "\n",
    "ax.grid(True)\n",
    "ax.set_facecolor(\"#FFFFFF\")\n",
    "plt.show()"
   ]
  },
  {
   "cell_type": "code",
   "execution_count": 71,
   "metadata": {},
   "outputs": [
    {
     "data": {
      "text/html": [
       "<div>\n",
       "<style scoped>\n",
       "    .dataframe tbody tr th:only-of-type {\n",
       "        vertical-align: middle;\n",
       "    }\n",
       "\n",
       "    .dataframe tbody tr th {\n",
       "        vertical-align: top;\n",
       "    }\n",
       "\n",
       "    .dataframe thead th {\n",
       "        text-align: right;\n",
       "    }\n",
       "</style>\n",
       "<table border=\"1\" class=\"dataframe\">\n",
       "  <thead>\n",
       "    <tr style=\"text-align: right;\">\n",
       "      <th></th>\n",
       "      <th>name</th>\n",
       "      <th>url</th>\n",
       "    </tr>\n",
       "  </thead>\n",
       "  <tbody>\n",
       "    <tr>\n",
       "      <th>0</th>\n",
       "      <td>peak width fitting</td>\n",
       "      <td>https://i.stack.imgur.com/rKIEC.jpg</td>\n",
       "    </tr>\n",
       "    <tr>\n",
       "      <th>1</th>\n",
       "      <td>peak shape</td>\n",
       "      <td>https://i.stack.imgur.com/EN2qk.jpg</td>\n",
       "    </tr>\n",
       "    <tr>\n",
       "      <th>2</th>\n",
       "      <td>m/z 30 peak fitting</td>\n",
       "      <td>https://i.stack.imgur.com/LVwfI.jpg</td>\n",
       "    </tr>\n",
       "    <tr>\n",
       "      <th>3</th>\n",
       "      <td>m/z 46 peak fitting</td>\n",
       "      <td>https://i.stack.imgur.com/KFqTi.jpg</td>\n",
       "    </tr>\n",
       "  </tbody>\n",
       "</table>\n",
       "</div>"
      ],
      "text/plain": [
       "                  name                                  url\n",
       "0   peak width fitting  https://i.stack.imgur.com/rKIEC.jpg\n",
       "1           peak shape  https://i.stack.imgur.com/EN2qk.jpg\n",
       "2  m/z 30 peak fitting  https://i.stack.imgur.com/LVwfI.jpg\n",
       "3  m/z 46 peak fitting  https://i.stack.imgur.com/KFqTi.jpg"
      ]
     },
     "execution_count": 71,
     "metadata": {},
     "output_type": "execute_result"
    }
   ],
   "source": [
    "url_"
   ]
  },
  {
   "cell_type": "code",
   "execution_count": 58,
   "metadata": {},
   "outputs": [],
   "source": [
    "url_ = pd.read_clipboard()"
   ]
  },
  {
   "cell_type": "code",
   "execution_count": 105,
   "metadata": {},
   "outputs": [
    {
     "data": {
      "application/vnd.jupyter.widget-view+json": {
       "model_id": "4b71193bcf0d4f4f9017ef212a64b742",
       "version_major": 2,
       "version_minor": 0
      },
      "text/plain": [
       "interactive(children=(Dropdown(description='Image', options=('peak width fitting', 'peak shape', 'm/z 30 peak …"
      ]
     },
     "metadata": {},
     "output_type": "display_data"
    }
   ],
   "source": [
    "def show_image(Image):\n",
    "    url = url_[url_['name']==Image]['url'].values[0]\n",
    "    display(Disp.Image(requests.get(url).content,width='600'))\n",
    "widgets.interact(show_image, Image=list(url_['name'].values));"
   ]
  },
  {
   "cell_type": "code",
   "execution_count": null,
   "metadata": {},
   "outputs": [],
   "source": []
  }
 ],
 "metadata": {
  "kernelspec": {
   "display_name": "Python 3",
   "language": "python",
   "name": "python3"
  },
  "language_info": {
   "codemirror_mode": {
    "name": "ipython",
    "version": 3
   },
   "file_extension": ".py",
   "mimetype": "text/x-python",
   "name": "python",
   "nbconvert_exporter": "python",
   "pygments_lexer": "ipython3",
   "version": "3.8.5"
  }
 },
 "nbformat": 4,
 "nbformat_minor": 4
}
