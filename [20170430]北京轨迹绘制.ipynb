{
 "cells": [
  {
   "cell_type": "code",
   "execution_count": 37,
   "metadata": {
    "collapsed": true
   },
   "outputs": [],
   "source": [
    "import numpy as np\n",
    "import pandas as pd\n",
    "import gpxpy\n",
    "\n",
    "import matplotlib.pyplot as plt\n",
    "from matplotlib.patches import Polygon\n",
    "from matplotlib.collections import PolyCollection\n",
    "import matplotlib.cm as cm\n",
    "from matplotlib.collections import LineCollection\n",
    "from mpl_toolkits.axes_grid1 import make_axes_locatable\n",
    "\n",
    "from mpl_toolkits.basemap import Basemap\n",
    "\n",
    "import matplotlib as mpl\n",
    "mpl.rcParams['font.sans-serif'] = ['Microsoft YaHei']\n",
    "plt.rcParams['axes.unicode_minus'] = False"
   ]
  },
  {
   "cell_type": "markdown",
   "metadata": {},
   "source": [
    "# 1"
   ]
  },
  {
   "cell_type": "markdown",
   "metadata": {},
   "source": [
    "## 1.1\n"
   ]
  },
  {
   "cell_type": "code",
   "execution_count": 2,
   "metadata": {
    "collapsed": false
   },
   "outputs": [],
   "source": [
    "## GPS轨迹文件\n",
    "gpx_file = open('/Users/HYF/Documents/jupyter/Data_vis/Reference/12.道路轨迹浓度绘制/223E9EB9-9825-4229-85A8-8EEA3CE0093C.gpx', 'r')\n",
    "gpx = gpxpy.parse(gpx_file)\n",
    "## 浓度文件\n",
    "data = pd.read_csv('//Users/HYF/Documents/jupyter/Data_vis/Reference/12.道路轨迹浓度绘制/下午数据.txt', sep=\"\\t\", skiprows=(1,2),)#encoding = 'utf-8')"
   ]
  },
  {
   "cell_type": "code",
   "execution_count": 3,
   "metadata": {
    "collapsed": false
   },
   "outputs": [
    {
     "name": "stdout",
     "output_type": "stream",
     "text": [
      "\u001b[35m[parse]\u001b[0m\r\n",
      "\u001b[34m美音:\u001b[0m \u001b[32m[pɑrs]\u001b[0m \u001b[34m英音:\u001b[0m \u001b[32m[pɑːz]\u001b[0m\r\n",
      "\u001b[34m基本词典:\u001b[0m\r\n",
      "\u001b[33m\tvt. 解析；从语法上分析\r\n",
      "\tvi. 理解；从语法上分析\r\n",
      "\tn. 从语法上分析；分列\u001b[0m\r\n",
      "\u001b[34m网络释义:\u001b[0m\r\n",
      "\t\u001b[36mParse\u001b[0m: 解析\r\n",
      "\t\u001b[36mParse Error\u001b[0m: 解析错误; 语法错误\r\n",
      "\t\u001b[36mevening parse\u001b[0m: 女晚用珠包\r\n",
      "\t\u001b[36mTransform Parse\u001b[0m: 转换分析; 转换剖析\r\n"
     ]
    }
   ],
   "source": [
    "!yd parse"
   ]
  },
  {
   "cell_type": "code",
   "execution_count": 4,
   "metadata": {
    "collapsed": false
   },
   "outputs": [
    {
     "data": {
      "text/plain": [
       "Index([u'C2H2', u'C2H4', u'C2H6', u'C3H6', u'C3H8', u'C4H8', u'C4H10', u'C5H8',\n",
       "       u'C5H10', u'C5H12', u'C6H6', u'C6H12', u'C6H14', u'C7H8', u'C7H14',\n",
       "       u'C7H16', u'C8H8', u'C8H10', u'C8H18', u'C9H12', u'C9H20', u'C10H14',\n",
       "       u'C10H22', u'C11H24', u'C12H26'],\n",
       "      dtype='object')"
      ]
     },
     "execution_count": 4,
     "metadata": {},
     "output_type": "execute_result"
    }
   ],
   "source": [
    "data.columns[1:]"
   ]
  },
  {
   "cell_type": "code",
   "execution_count": 7,
   "metadata": {
    "collapsed": false
   },
   "outputs": [
    {
     "name": "stdout",
     "output_type": "stream",
     "text": [
      "GPXTrack(segments=[GPXTrackSegment(points=[...])])\n"
     ]
    }
   ],
   "source": [
    "for track in gpx.tracks:\n",
    "    print track"
   ]
  },
  {
   "cell_type": "code",
   "execution_count": 8,
   "metadata": {
    "collapsed": true
   },
   "outputs": [],
   "source": [
    "### 轨迹文件预处理\n",
    "route = {'lat':[], 'lon':[], 'time':[]}\n",
    "for track in gpx.tracks:\n",
    "    for segment in track.segments:\n",
    "        for point in segment.points:\n",
    "            route['lat'].append(point.latitude)\n",
    "            route['lon'].append(point.longitude)\n",
    "            route['time'].append(point.time)\n",
    "df = pd.DataFrame(route)            \n",
    "df['lat'] = df['lat'].astype(float)\n",
    "df['lon'] = df['lon'].astype(float)"
   ]
  },
  {
   "cell_type": "code",
   "execution_count": 9,
   "metadata": {
    "collapsed": false
   },
   "outputs": [
    {
     "name": "stderr",
     "output_type": "stream",
     "text": [
      "/Users/HYF/anaconda/lib/python2.7/site-packages/pandas/core/indexing.py:140: SettingWithCopyWarning: \n",
      "A value is trying to be set on a copy of a slice from a DataFrame\n",
      "\n",
      "See the caveats in the documentation: http://pandas.pydata.org/pandas-docs/stable/indexing.html#indexing-view-versus-copy\n",
      "  self._setitem_with_indexer(indexer, value)\n"
     ]
    },
    {
     "name": "stdout",
     "output_type": "stream",
     "text": [
      "DONE\n"
     ]
    }
   ],
   "source": [
    "### 利用“时间”对应轨迹和测试浓度\n",
    "for col in data.columns[1:]:\n",
    "    df[col] = np.nan\n",
    "k = []\n",
    "for j in range(len(data)):\n",
    "    k.append(df.loc[df['time'].astype(str).str[11:16] == data.Time.iloc[j]].index.values[0])\n",
    "    \n",
    "for i in range(len(k)):\n",
    "    for col in data.columns[1:]:\n",
    "        df[col].iloc[k[i]:] = data[col].iloc[i]\n",
    "#     if i == (len(k)-1):\n",
    "#         df[col].iloc[k[i]:] = data[col].iloc[i]\n",
    "print \"DONE\""
   ]
  },
  {
   "cell_type": "code",
   "execution_count": 10,
   "metadata": {
    "collapsed": false
   },
   "outputs": [
    {
     "data": {
      "text/html": [
       "<div>\n",
       "<table border=\"1\" class=\"dataframe\">\n",
       "  <thead>\n",
       "    <tr style=\"text-align: right;\">\n",
       "      <th></th>\n",
       "      <th>Time</th>\n",
       "      <th>C2H2</th>\n",
       "      <th>C2H4</th>\n",
       "      <th>C2H6</th>\n",
       "      <th>C3H6</th>\n",
       "      <th>C3H8</th>\n",
       "      <th>C4H8</th>\n",
       "      <th>C4H10</th>\n",
       "      <th>C5H8</th>\n",
       "      <th>C5H10</th>\n",
       "      <th>...</th>\n",
       "      <th>C7H16</th>\n",
       "      <th>C8H8</th>\n",
       "      <th>C8H10</th>\n",
       "      <th>C8H18</th>\n",
       "      <th>C9H12</th>\n",
       "      <th>C9H20</th>\n",
       "      <th>C10H14</th>\n",
       "      <th>C10H22</th>\n",
       "      <th>C11H24</th>\n",
       "      <th>C12H26</th>\n",
       "    </tr>\n",
       "  </thead>\n",
       "  <tbody>\n",
       "    <tr>\n",
       "      <th>0</th>\n",
       "      <td>15:28</td>\n",
       "      <td>0.275343</td>\n",
       "      <td>--</td>\n",
       "      <td>--</td>\n",
       "      <td>0.156764</td>\n",
       "      <td>--</td>\n",
       "      <td>0.098717</td>\n",
       "      <td>0.245568</td>\n",
       "      <td>0.256380</td>\n",
       "      <td>0.140946</td>\n",
       "      <td>...</td>\n",
       "      <td>6.633796</td>\n",
       "      <td>0.034968</td>\n",
       "      <td>0.102680</td>\n",
       "      <td>0.580514</td>\n",
       "      <td>0.036978</td>\n",
       "      <td>1.213783</td>\n",
       "      <td>0.040255</td>\n",
       "      <td>4.588736</td>\n",
       "      <td>0.530984</td>\n",
       "      <td>0.222834</td>\n",
       "    </tr>\n",
       "    <tr>\n",
       "      <th>1</th>\n",
       "      <td>15:37</td>\n",
       "      <td>0.123017</td>\n",
       "      <td>--</td>\n",
       "      <td>--</td>\n",
       "      <td>0.165667</td>\n",
       "      <td>--</td>\n",
       "      <td>0.067372</td>\n",
       "      <td>0.191807</td>\n",
       "      <td>0.168912</td>\n",
       "      <td>0.121080</td>\n",
       "      <td>...</td>\n",
       "      <td>2.989580</td>\n",
       "      <td>0.035032</td>\n",
       "      <td>0.130581</td>\n",
       "      <td>0.444896</td>\n",
       "      <td>0.040416</td>\n",
       "      <td>0.810051</td>\n",
       "      <td>0.041477</td>\n",
       "      <td>1.989544</td>\n",
       "      <td>0.538653</td>\n",
       "      <td>0.191230</td>\n",
       "    </tr>\n",
       "    <tr>\n",
       "      <th>2</th>\n",
       "      <td>15:46</td>\n",
       "      <td>0.131244</td>\n",
       "      <td>--</td>\n",
       "      <td>--</td>\n",
       "      <td>0.112290</td>\n",
       "      <td>--</td>\n",
       "      <td>0.041104</td>\n",
       "      <td>0.165044</td>\n",
       "      <td>0.129249</td>\n",
       "      <td>0.086463</td>\n",
       "      <td>...</td>\n",
       "      <td>2.400872</td>\n",
       "      <td>0.024518</td>\n",
       "      <td>0.083470</td>\n",
       "      <td>0.362963</td>\n",
       "      <td>0.023296</td>\n",
       "      <td>0.542375</td>\n",
       "      <td>0.024135</td>\n",
       "      <td>1.888960</td>\n",
       "      <td>0.707126</td>\n",
       "      <td>0.005513</td>\n",
       "    </tr>\n",
       "    <tr>\n",
       "      <th>3</th>\n",
       "      <td>15:55</td>\n",
       "      <td>0.147697</td>\n",
       "      <td>--</td>\n",
       "      <td>--</td>\n",
       "      <td>0.157966</td>\n",
       "      <td>--</td>\n",
       "      <td>0.028425</td>\n",
       "      <td>0.153117</td>\n",
       "      <td>0.094130</td>\n",
       "      <td>0.072951</td>\n",
       "      <td>...</td>\n",
       "      <td>1.621700</td>\n",
       "      <td>0.025988</td>\n",
       "      <td>0.076871</td>\n",
       "      <td>0.300066</td>\n",
       "      <td>0.019046</td>\n",
       "      <td>0.590644</td>\n",
       "      <td>0.025983</td>\n",
       "      <td>1.838668</td>\n",
       "      <td>0.492706</td>\n",
       "      <td>-0.011897</td>\n",
       "    </tr>\n",
       "    <tr>\n",
       "      <th>4</th>\n",
       "      <td>16:04</td>\n",
       "      <td>0.188829</td>\n",
       "      <td>--</td>\n",
       "      <td>--</td>\n",
       "      <td>0.127427</td>\n",
       "      <td>--</td>\n",
       "      <td>0.029791</td>\n",
       "      <td>0.141626</td>\n",
       "      <td>0.116303</td>\n",
       "      <td>0.080987</td>\n",
       "      <td>...</td>\n",
       "      <td>2.123833</td>\n",
       "      <td>0.021724</td>\n",
       "      <td>0.084262</td>\n",
       "      <td>0.276893</td>\n",
       "      <td>0.019288</td>\n",
       "      <td>0.336132</td>\n",
       "      <td>0.022816</td>\n",
       "      <td>2.995380</td>\n",
       "      <td>0.446759</td>\n",
       "      <td>0.086765</td>\n",
       "    </tr>\n",
       "    <tr>\n",
       "      <th>5</th>\n",
       "      <td>16:13</td>\n",
       "      <td>0.164149</td>\n",
       "      <td>--</td>\n",
       "      <td>--</td>\n",
       "      <td>0.155842</td>\n",
       "      <td>--</td>\n",
       "      <td>0.050532</td>\n",
       "      <td>0.163880</td>\n",
       "      <td>0.113686</td>\n",
       "      <td>0.112956</td>\n",
       "      <td>...</td>\n",
       "      <td>2.799115</td>\n",
       "      <td>0.039517</td>\n",
       "      <td>0.105239</td>\n",
       "      <td>0.318273</td>\n",
       "      <td>0.025106</td>\n",
       "      <td>0.796887</td>\n",
       "      <td>0.032278</td>\n",
       "      <td>1.587209</td>\n",
       "      <td>0.477390</td>\n",
       "      <td>0.075157</td>\n",
       "    </tr>\n",
       "  </tbody>\n",
       "</table>\n",
       "<p>6 rows × 26 columns</p>\n",
       "</div>"
      ],
      "text/plain": [
       "    Time      C2H2 C2H4 C2H6      C3H6 C3H8      C4H8     C4H10      C5H8  \\\n",
       "0  15:28  0.275343   --   --  0.156764   --  0.098717  0.245568  0.256380   \n",
       "1  15:37  0.123017   --   --  0.165667   --  0.067372  0.191807  0.168912   \n",
       "2  15:46  0.131244   --   --  0.112290   --  0.041104  0.165044  0.129249   \n",
       "3  15:55  0.147697   --   --  0.157966   --  0.028425  0.153117  0.094130   \n",
       "4  16:04  0.188829   --   --  0.127427   --  0.029791  0.141626  0.116303   \n",
       "5  16:13  0.164149   --   --  0.155842   --  0.050532  0.163880  0.113686   \n",
       "\n",
       "      C5H10    ...        C7H16      C8H8     C8H10     C8H18     C9H12  \\\n",
       "0  0.140946    ...     6.633796  0.034968  0.102680  0.580514  0.036978   \n",
       "1  0.121080    ...     2.989580  0.035032  0.130581  0.444896  0.040416   \n",
       "2  0.086463    ...     2.400872  0.024518  0.083470  0.362963  0.023296   \n",
       "3  0.072951    ...     1.621700  0.025988  0.076871  0.300066  0.019046   \n",
       "4  0.080987    ...     2.123833  0.021724  0.084262  0.276893  0.019288   \n",
       "5  0.112956    ...     2.799115  0.039517  0.105239  0.318273  0.025106   \n",
       "\n",
       "      C9H20    C10H14    C10H22    C11H24    C12H26  \n",
       "0  1.213783  0.040255  4.588736  0.530984  0.222834  \n",
       "1  0.810051  0.041477  1.989544  0.538653  0.191230  \n",
       "2  0.542375  0.024135  1.888960  0.707126  0.005513  \n",
       "3  0.590644  0.025983  1.838668  0.492706 -0.011897  \n",
       "4  0.336132  0.022816  2.995380  0.446759  0.086765  \n",
       "5  0.796887  0.032278  1.587209  0.477390  0.075157  \n",
       "\n",
       "[6 rows x 26 columns]"
      ]
     },
     "execution_count": 10,
     "metadata": {},
     "output_type": "execute_result"
    }
   ],
   "source": [
    "data"
   ]
  },
  {
   "cell_type": "code",
   "execution_count": 11,
   "metadata": {
    "collapsed": true
   },
   "outputs": [],
   "source": [
    "### 以绘制C2H2 为例子\n",
    "\n",
    "#### 输入变量\n",
    "start     =  480\n",
    "end       =  -1\n",
    "species   =  'C2H2'\n",
    "x,y,z = df['lon'].iloc[start:end],df['lat'].iloc[start:end],df[species].iloc[start:end],\n",
    "points = np.array([x, y]).T.reshape(-1, 1, 2)\n",
    "segments = np.concatenate([points[:-1], points[1:]], axis=1)"
   ]
  },
  {
   "cell_type": "code",
   "execution_count": 14,
   "metadata": {
    "collapsed": true
   },
   "outputs": [],
   "source": [
    "## 气象站点原始数据输入\n",
    "MET = pd.ExcelFile(\"/Users/HYF/Downloads/国家级自动站要素20170501至20170510数据打包_185510_0.xlsx\")\n",
    "MET = MET.parse(MET.sheet_names[0])"
   ]
  },
  {
   "cell_type": "code",
   "execution_count": 19,
   "metadata": {
    "collapsed": false
   },
   "outputs": [],
   "source": [
    "## 5个气象站点的经纬度获取\n",
    "site_lon, site_lat = MET[u'经度'].unique(),MET[u'纬度'].unique()"
   ]
  },
  {
   "cell_type": "code",
   "execution_count": 46,
   "metadata": {
    "collapsed": false
   },
   "outputs": [],
   "source": [
    "site_label =[k + u'气象站' for k in MET[u'站名'].unique() ] "
   ]
  },
  {
   "cell_type": "code",
   "execution_count": 47,
   "metadata": {
    "collapsed": false
   },
   "outputs": [
    {
     "name": "stdout",
     "output_type": "stream",
     "text": [
      "[u'\\u6d77\\u6dc0\\u6c14\\u8c61\\u7ad9', u'\\u671d\\u9633\\u6c14\\u8c61\\u7ad9', u'\\u5317\\u4eac\\u6c14\\u8c61\\u7ad9', u'\\u4e30\\u53f0\\u6c14\\u8c61\\u7ad9', u'\\u5927\\u5174\\u6c14\\u8c61\\u7ad9']\n"
     ]
    }
   ],
   "source": [
    "print site_label"
   ]
  },
  {
   "cell_type": "code",
   "execution_count": 48,
   "metadata": {
    "collapsed": false
   },
   "outputs": [
    {
     "data": {
      "image/png": "[encoded data removed]",
      "text/plain": [
       "<matplotlib.figure.Figure at 0x127f61490>"
      ]
     },
     "metadata": {},
     "output_type": "display_data"
    }
   ],
   "source": [
    "xc1,xc2,yc1,yc2 = 116.2,116.61, 39.70,40.12\n",
    "fig=plt.figure(figsize=(8,6))\n",
    "ax=plt.subplot()\n",
    "map = Basemap(llcrnrlon=xc1,llcrnrlat=yc1,urcrnrlon=xc2,urcrnrlat=yc2)\n",
    "# map.readshapefile('/Users/HYF/Documents/jupyter/Data_vis/Reference/12.道路轨迹浓度绘制/Beijing-shp/shape/roads',\n",
    "#                   'roads',zorder =1,color='grey')\n",
    "\n",
    "map.drawparallels(np.arange(39.8,40.1,0.1), labels=[1, 0, 0, 0],linewidth =0, fontsize = 14)\n",
    "map.drawmeridians(np.arange(116.2, 116.85, 0.2), labels=[0, 0, 0, 1], linewidth =0,fontsize = 14)\n",
    "\n",
    "\n",
    "lc = LineCollection(segments, cmap=plt.get_cmap('gist_rainbow'),\n",
    "                    norm=plt.Normalize(0, z.max()))\n",
    "lc.set_array(z)\n",
    "lc.set_linewidth(7)\n",
    "kk = ax.add_collection(lc)\n",
    "kk.zorder = 2\n",
    "\n",
    "\n",
    "## 站点绘制\n",
    "site = plt.scatter(site_lon, site_lat,zorder = 3, color = '#C25247',marker = '*', s = 140)\n",
    "for i in range(0,len(site_lon),1):\n",
    "    plt.text(site_lon[i]+0.005, site_lat[i]+0.005, site_label[i],fontsize=12,fontweight='bold',\n",
    "                    ha='left',va='bottom',color='k')\n",
    "\n",
    "\n",
    "divider = make_axes_locatable(ax)\n",
    "cax = divider.append_axes(\"right\", size=\"3%\", pad=0.4)\n",
    "cbar = plt.colorbar(kk, cax=cax)  \n",
    "cbar.ax.tick_params(labelsize = 12)\n",
    "cbar.ax.set_ylabel( r'$\\mathregular{C_2H_2\\ (\\mu g/m^3)}$', rotation=270,labelpad = 20.0,fontsize = 14)\n",
    "\n",
    "output =\"/Users/HYF/Documents/jupyter/Data_vis/Reference/12.道路轨迹浓度绘制/\" +species\n",
    "# plt.savefig(output+'.pdf')\n",
    "plt.show()"
   ]
  },
  {
   "cell_type": "code",
   "execution_count": null,
   "metadata": {
    "collapsed": true
   },
   "outputs": [],
   "source": []
  }
 ],
 "metadata": {
  "kernelspec": {
   "display_name": "Python 2",
   "language": "python",
   "name": "python2"
  },
  "language_info": {
   "codemirror_mode": {
    "name": "ipython",
    "version": 2
   },
   "file_extension": ".py",
   "mimetype": "text/x-python",
   "name": "python",
   "nbconvert_exporter": "python",
   "pygments_lexer": "ipython2",
   "version": "2.7.12"
  }
 },
 "nbformat": 4,
 "nbformat_minor": 2
}
